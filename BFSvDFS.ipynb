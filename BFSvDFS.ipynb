{
 "cells": [
  {
   "cell_type": "code",
   "execution_count": 1,
   "metadata": {},
   "outputs": [],
   "source": [
    "#John Robinson\n",
    "#CSC 462 artificial intelligence\n",
    "#Homework Assignment #1: Breadth-First and Depth-First Pathfinding\n",
    "#9/10/21"
   ]
  },
  {
   "cell_type": "code",
   "execution_count": 2,
   "metadata": {
    "id": "c83375fd"
   },
   "outputs": [],
   "source": [
    "import pandas as pd\n",
    "import numpy as np\n",
    "import queue"
   ]
  },
  {
   "cell_type": "code",
   "execution_count": 3,
   "metadata": {},
   "outputs": [
    {
     "name": "stdout",
     "output_type": "stream",
     "text": [
      "please enter the file name and extension:\n",
      "BFS_DFS.csv\n",
      "enter start node(1-200)\n",
      "192\n",
      "enter end node 1-200\n",
      "186\n"
     ]
    }
   ],
   "source": [
    "#input\n",
    "\n",
    "print('please enter the file name and extension:')\n",
    "while True:\n",
    "    try:\n",
    "        z = input()\n",
    "        df = pd.read_csv(z)\n",
    "        #BFS_DFS.csv\n",
    "        break\n",
    "\n",
    "    except FileNotFoundError:\n",
    "        print(\"File not found.\")\n",
    "        print('please re-enter a correct file name and extension:')\n",
    "    \n",
    "    except Exception:\n",
    "        print(\"Some other exception\")\n",
    "\n",
    "while True:\n",
    "    try:\n",
    "        print('enter start node(1-200)')\n",
    "        x = int(input())\n",
    "    except ValueError:\n",
    "        print(\"Not a number\")          \n",
    "    else:\n",
    "        if(x<=200 and x>=1):\n",
    "            break\n",
    "        else:\n",
    "            print(\"not in range please enter again\")\n",
    "while True:\n",
    "    try:            \n",
    "        print('enter end node 1-200')\n",
    "        y = int(input())\n",
    "    except ValueError:\n",
    "        print(\"Not a number\")          \n",
    "    else:\n",
    "        if(y<=200 and y>=1):\n",
    "            break\n",
    "        else:\n",
    "            print(\"not in range please enter again\")\n",
    "            \n",
    "#z=\"BFS_DFS.csv\"\n",
    "#x=192\n",
    "#y=186\n",
    "#https://stackoverflow.com/questions/64302419/what-are-all-of-the-exceptions-that-pandas-read-csv-throw\n",
    "#some help reading file exceptions"
   ]
  },
  {
   "cell_type": "code",
   "execution_count": 4,
   "metadata": {
    "id": "01781086",
    "outputId": "fd12b5f0-56fb-49e2-ce98-b087a963dc5f",
    "scrolled": false
   },
   "outputs": [
    {
     "data": {
      "text/html": [
       "<div>\n",
       "<style scoped>\n",
       "    .dataframe tbody tr th:only-of-type {\n",
       "        vertical-align: middle;\n",
       "    }\n",
       "\n",
       "    .dataframe tbody tr th {\n",
       "        vertical-align: top;\n",
       "    }\n",
       "\n",
       "    .dataframe thead th {\n",
       "        text-align: right;\n",
       "    }\n",
       "</style>\n",
       "<table border=\"1\" class=\"dataframe\">\n",
       "  <thead>\n",
       "    <tr style=\"text-align: right;\">\n",
       "      <th></th>\n",
       "      <th>From</th>\n",
       "      <th>To</th>\n",
       "      <th>Unnamed: 2</th>\n",
       "      <th>Unnamed: 3</th>\n",
       "      <th>Unnamed: 4</th>\n",
       "      <th>Unnamed: 5</th>\n",
       "      <th>Unnamed: 6</th>\n",
       "      <th>Unnamed: 7</th>\n",
       "      <th>Unnamed: 8</th>\n",
       "      <th>Unnamed: 9</th>\n",
       "      <th>Unnamed: 10</th>\n",
       "      <th>Unnamed: 11</th>\n",
       "      <th>Unnamed: 12</th>\n",
       "      <th>Unnamed: 13</th>\n",
       "    </tr>\n",
       "  </thead>\n",
       "  <tbody>\n",
       "    <tr>\n",
       "      <th>0</th>\n",
       "      <td>1</td>\n",
       "      <td>4</td>\n",
       "      <td>48.0</td>\n",
       "      <td>75.0</td>\n",
       "      <td>90.0</td>\n",
       "      <td>125.0</td>\n",
       "      <td>165.0</td>\n",
       "      <td>181.0</td>\n",
       "      <td>NaN</td>\n",
       "      <td>NaN</td>\n",
       "      <td>NaN</td>\n",
       "      <td>NaN</td>\n",
       "      <td>NaN</td>\n",
       "      <td>NaN</td>\n",
       "    </tr>\n",
       "    <tr>\n",
       "      <th>1</th>\n",
       "      <td>2</td>\n",
       "      <td>30</td>\n",
       "      <td>72.0</td>\n",
       "      <td>76.0</td>\n",
       "      <td>160.0</td>\n",
       "      <td>NaN</td>\n",
       "      <td>NaN</td>\n",
       "      <td>NaN</td>\n",
       "      <td>NaN</td>\n",
       "      <td>NaN</td>\n",
       "      <td>NaN</td>\n",
       "      <td>NaN</td>\n",
       "      <td>NaN</td>\n",
       "      <td>NaN</td>\n",
       "    </tr>\n",
       "    <tr>\n",
       "      <th>2</th>\n",
       "      <td>3</td>\n",
       "      <td>6</td>\n",
       "      <td>39.0</td>\n",
       "      <td>59.0</td>\n",
       "      <td>64.0</td>\n",
       "      <td>71.0</td>\n",
       "      <td>112.0</td>\n",
       "      <td>153.0</td>\n",
       "      <td>NaN</td>\n",
       "      <td>NaN</td>\n",
       "      <td>NaN</td>\n",
       "      <td>NaN</td>\n",
       "      <td>NaN</td>\n",
       "      <td>NaN</td>\n",
       "    </tr>\n",
       "    <tr>\n",
       "      <th>3</th>\n",
       "      <td>4</td>\n",
       "      <td>1</td>\n",
       "      <td>52.0</td>\n",
       "      <td>66.0</td>\n",
       "      <td>159.0</td>\n",
       "      <td>160.0</td>\n",
       "      <td>181.0</td>\n",
       "      <td>NaN</td>\n",
       "      <td>NaN</td>\n",
       "      <td>NaN</td>\n",
       "      <td>NaN</td>\n",
       "      <td>NaN</td>\n",
       "      <td>NaN</td>\n",
       "      <td>NaN</td>\n",
       "    </tr>\n",
       "    <tr>\n",
       "      <th>4</th>\n",
       "      <td>5</td>\n",
       "      <td>65</td>\n",
       "      <td>75.0</td>\n",
       "      <td>152.0</td>\n",
       "      <td>169.0</td>\n",
       "      <td>190.0</td>\n",
       "      <td>NaN</td>\n",
       "      <td>NaN</td>\n",
       "      <td>NaN</td>\n",
       "      <td>NaN</td>\n",
       "      <td>NaN</td>\n",
       "      <td>NaN</td>\n",
       "      <td>NaN</td>\n",
       "      <td>NaN</td>\n",
       "    </tr>\n",
       "  </tbody>\n",
       "</table>\n",
       "</div>"
      ],
      "text/plain": [
       "   From  To  Unnamed: 2  Unnamed: 3  Unnamed: 4  Unnamed: 5  Unnamed: 6  \\\n",
       "0     1   4        48.0        75.0        90.0       125.0       165.0   \n",
       "1     2  30        72.0        76.0       160.0         NaN         NaN   \n",
       "2     3   6        39.0        59.0        64.0        71.0       112.0   \n",
       "3     4   1        52.0        66.0       159.0       160.0       181.0   \n",
       "4     5  65        75.0       152.0       169.0       190.0         NaN   \n",
       "\n",
       "   Unnamed: 7  Unnamed: 8  Unnamed: 9  Unnamed: 10  Unnamed: 11  Unnamed: 12  \\\n",
       "0       181.0         NaN         NaN          NaN          NaN          NaN   \n",
       "1         NaN         NaN         NaN          NaN          NaN          NaN   \n",
       "2       153.0         NaN         NaN          NaN          NaN          NaN   \n",
       "3         NaN         NaN         NaN          NaN          NaN          NaN   \n",
       "4         NaN         NaN         NaN          NaN          NaN          NaN   \n",
       "\n",
       "   Unnamed: 13  \n",
       "0          NaN  \n",
       "1          NaN  \n",
       "2          NaN  \n",
       "3          NaN  \n",
       "4          NaN  "
      ]
     },
     "execution_count": 4,
     "metadata": {},
     "output_type": "execute_result"
    }
   ],
   "source": [
    "df.head()"
   ]
  },
  {
   "cell_type": "code",
   "execution_count": 5,
   "metadata": {},
   "outputs": [],
   "source": [
    "#reformating to array"
   ]
  },
  {
   "cell_type": "code",
   "execution_count": 6,
   "metadata": {
    "id": "8f4fd802",
    "outputId": "5bcd6ffa-09ff-4f4e-9b5a-d142a7803c2f"
   },
   "outputs": [
    {
     "name": "stdout",
     "output_type": "stream",
     "text": [
      "               0      1      2      3      4      5      6      7      8    \\\n",
      "From           1.0    2.0    3.0    4.0    5.0    6.0    7.0    8.0    9.0   \n",
      "To             4.0   30.0    6.0    1.0   65.0    3.0    8.0    7.0   14.0   \n",
      "Unnamed: 2    48.0   72.0   39.0   52.0   75.0   17.0   26.0   16.0  103.0   \n",
      "Unnamed: 3    75.0   76.0   59.0   66.0  152.0   66.0   29.0   22.0  141.0   \n",
      "Unnamed: 4    90.0  160.0   64.0  159.0  169.0  105.0   47.0   29.0  154.0   \n",
      "Unnamed: 5   125.0    NaN   71.0  160.0  190.0  114.0   60.0   62.0  184.0   \n",
      "Unnamed: 6   165.0    NaN  112.0  181.0    NaN  131.0   99.0  179.0  186.0   \n",
      "Unnamed: 7   181.0    NaN  153.0    NaN    NaN  164.0  122.0    NaN    NaN   \n",
      "Unnamed: 8     NaN    NaN    NaN    NaN    NaN  186.0  191.0    NaN    NaN   \n",
      "Unnamed: 9     NaN    NaN    NaN    NaN    NaN  199.0    NaN    NaN    NaN   \n",
      "Unnamed: 10    NaN    NaN    NaN    NaN    NaN    NaN    NaN    NaN    NaN   \n",
      "Unnamed: 11    NaN    NaN    NaN    NaN    NaN    NaN    NaN    NaN    NaN   \n",
      "Unnamed: 12    NaN    NaN    NaN    NaN    NaN    NaN    NaN    NaN    NaN   \n",
      "Unnamed: 13    NaN    NaN    NaN    NaN    NaN    NaN    NaN    NaN    NaN   \n",
      "\n",
      "               9    ...    190    191    192    193    194    195    196  \\\n",
      "From          10.0  ...  191.0  192.0  193.0  194.0  195.0  196.0  197.0   \n",
      "To            13.0  ...    7.0   16.0   19.0  153.0   43.0   12.0  107.0   \n",
      "Unnamed: 2    56.0  ...   51.0   23.0   26.0    NaN   65.0   93.0   43.0   \n",
      "Unnamed: 3    85.0  ...   78.0   55.0   58.0    NaN   69.0  168.0   48.0   \n",
      "Unnamed: 4    97.0  ...  139.0   71.0    NaN    NaN    NaN    NaN    NaN   \n",
      "Unnamed: 5   130.0  ...    NaN  186.0    NaN    NaN    NaN    NaN    NaN   \n",
      "Unnamed: 6   137.0  ...    NaN    NaN    NaN    NaN    NaN    NaN    NaN   \n",
      "Unnamed: 7   184.0  ...    NaN    NaN    NaN    NaN    NaN    NaN    NaN   \n",
      "Unnamed: 8     NaN  ...    NaN    NaN    NaN    NaN    NaN    NaN    NaN   \n",
      "Unnamed: 9     NaN  ...    NaN    NaN    NaN    NaN    NaN    NaN    NaN   \n",
      "Unnamed: 10    NaN  ...    NaN    NaN    NaN    NaN    NaN    NaN    NaN   \n",
      "Unnamed: 11    NaN  ...    NaN    NaN    NaN    NaN    NaN    NaN    NaN   \n",
      "Unnamed: 12    NaN  ...    NaN    NaN    NaN    NaN    NaN    NaN    NaN   \n",
      "Unnamed: 13    NaN  ...    NaN    NaN    NaN    NaN    NaN    NaN    NaN   \n",
      "\n",
      "               197    198    199  \n",
      "From         198.0  199.0  200.0  \n",
      "To            81.0    6.0   33.0  \n",
      "Unnamed: 2    93.0   78.0   73.0  \n",
      "Unnamed: 3     NaN  126.0   93.0  \n",
      "Unnamed: 4     NaN  138.0    NaN  \n",
      "Unnamed: 5     NaN    NaN    NaN  \n",
      "Unnamed: 6     NaN    NaN    NaN  \n",
      "Unnamed: 7     NaN    NaN    NaN  \n",
      "Unnamed: 8     NaN    NaN    NaN  \n",
      "Unnamed: 9     NaN    NaN    NaN  \n",
      "Unnamed: 10    NaN    NaN    NaN  \n",
      "Unnamed: 11    NaN    NaN    NaN  \n",
      "Unnamed: 12    NaN    NaN    NaN  \n",
      "Unnamed: 13    NaN    NaN    NaN  \n",
      "\n",
      "[14 rows x 200 columns]\n"
     ]
    }
   ],
   "source": [
    "df_t = df.T\n",
    "print(df_t)"
   ]
  },
  {
   "cell_type": "code",
   "execution_count": 7,
   "metadata": {},
   "outputs": [],
   "source": [
    "#reformating to array"
   ]
  },
  {
   "cell_type": "code",
   "execution_count": 8,
   "metadata": {
    "id": "984b79f5",
    "outputId": "50d31c47-978d-4fab-fc5a-07bada739dc1"
   },
   "outputs": [
    {
     "data": {
      "text/plain": [
       "numpy.ndarray"
      ]
     },
     "execution_count": 8,
     "metadata": {},
     "output_type": "execute_result"
    }
   ],
   "source": [
    "type(df_t.to_numpy())"
   ]
  },
  {
   "cell_type": "code",
   "execution_count": 9,
   "metadata": {
    "id": "8a18daca",
    "outputId": "dda88949-20a0-46ec-f33c-01ef276555c8"
   },
   "outputs": [],
   "source": [
    "array = df_t.to_numpy()\n",
    "array = np.flip(array, axis=1)"
   ]
  },
  {
   "cell_type": "code",
   "execution_count": 10,
   "metadata": {},
   "outputs": [],
   "source": [
    "#print(array[0])"
   ]
  },
  {
   "cell_type": "code",
   "execution_count": 11,
   "metadata": {},
   "outputs": [],
   "source": [
    "import queue"
   ]
  },
  {
   "cell_type": "code",
   "execution_count": 12,
   "metadata": {},
   "outputs": [],
   "source": [
    "q = queue.Queue()"
   ]
  },
  {
   "cell_type": "code",
   "execution_count": 47,
   "metadata": {},
   "outputs": [],
   "source": [
    "startingnode = array[0][x]\n",
    "solution = y\n",
    "solutionx = 0\n",
    "solutiony = 0\n",
    "solutionfound = 0\n",
    "#queue.append(startingnode)\n",
    "q.put(startingnode)"
   ]
  },
  {
   "cell_type": "code",
   "execution_count": 48,
   "metadata": {},
   "outputs": [],
   "source": [
    "#Breadth first search"
   ]
  },
  {
   "cell_type": "code",
   "execution_count": 49,
   "metadata": {},
   "outputs": [],
   "source": [
    "q.get()\n",
    "for i in range(len(array)):\n",
    "    for j in range(len(array[i])):\n",
    "        if(array[i][j] == solution):\n",
    "            if(i != 0):\n",
    "                if(solutionfound == 0):\n",
    "                    solutionx = i\n",
    "                    solutiony = j\n",
    "                    #print(\"solution found\")\n",
    "                    #print(i)\n",
    "                    #print(j)\n",
    "                    solutionfound = 1\n",
    "                    break\n",
    "        if(j>=199):\n",
    "            while not q.empty():\n",
    "            #for l in range(0,200):\n",
    "                q.get()\n",
    "        else:\n",
    "            if(array[i][j] != startingnode):\n",
    "                q.put(array[i][j])\n",
    "                #print(list(q.queue))\n",
    "                #print(array[i][j])\n",
    "                #print(queue)\n",
    "            "
   ]
  },
  {
   "cell_type": "code",
   "execution_count": 50,
   "metadata": {},
   "outputs": [
    {
     "name": "stdout",
     "output_type": "stream",
     "text": [
      "[]\n"
     ]
    }
   ],
   "source": [
    "print(list(q.queue))\n"
   ]
  },
  {
   "cell_type": "code",
   "execution_count": 51,
   "metadata": {},
   "outputs": [],
   "source": [
    "#backwards search for optimal path"
   ]
  },
  {
   "cell_type": "code",
   "execution_count": 57,
   "metadata": {},
   "outputs": [],
   "source": [
    "distance = 0\n",
    "startx = 0\n",
    "starty = x\n",
    "endx = solutionx\n",
    "endy = solutiony\n",
    "m= queue.Queue()\n",
    "m.put(x)\n",
    "done = 0"
   ]
  },
  {
   "cell_type": "code",
   "execution_count": 58,
   "metadata": {},
   "outputs": [],
   "source": [
    "for i in range(len(array)):\n",
    "    for j in range(len(array[i])):\n",
    "        if(i == endx):\n",
    "            if done == 0:\n",
    "                m.put(solution)\n",
    "                done = 1\n",
    "                #print(list(m.queue))\n",
    "                break\n",
    "        if(i < endx):\n",
    "            if(i != 0):\n",
    "                if(endy == j):\n",
    "                    m.put(array[i][j])\n"
   ]
  },
  {
   "cell_type": "code",
   "execution_count": 59,
   "metadata": {
    "scrolled": true
   },
   "outputs": [
    {
     "name": "stdout",
     "output_type": "stream",
     "text": [
      "[192, 23.0, 129.0, 132.0, 186]\n"
     ]
    }
   ],
   "source": [
    "print(list(m.queue))"
   ]
  },
  {
   "cell_type": "code",
   "execution_count": 60,
   "metadata": {},
   "outputs": [],
   "source": [
    "#depth first search"
   ]
  },
  {
   "cell_type": "code",
   "execution_count": 61,
   "metadata": {},
   "outputs": [],
   "source": [
    "stack = []\n",
    "startingnodeDFS = array[0][x]\n",
    "solutionDFS = y\n",
    "solutionxDFS = 0\n",
    "solutionyDFS = 0\n",
    "solutionfoundDFS = 0\n",
    "#stack.append(x)\n",
    "check = 1\n",
    "count = 0\n",
    "stackreset = 0"
   ]
  },
  {
   "cell_type": "code",
   "execution_count": 62,
   "metadata": {},
   "outputs": [
    {
     "name": "stdout",
     "output_type": "stream",
     "text": [
      "[200.0]\n",
      "[200.0, 33.0]\n",
      "[200.0, 33.0, 73.0]\n",
      "[200.0, 33.0, 73.0, 93.0]\n",
      "[200.0, 33.0, 73.0, 93.0, nan]\n",
      "[199.0]\n",
      "[199.0, 6.0]\n",
      "[199.0, 6.0, 78.0]\n",
      "[199.0, 6.0, 78.0, 126.0]\n",
      "[199.0, 6.0, 78.0, 126.0, 138.0]\n",
      "[199.0, 6.0, 78.0, 126.0, 138.0, nan]\n",
      "[198.0]\n",
      "[198.0, 81.0]\n",
      "[198.0, 81.0, 93.0]\n",
      "[198.0, 81.0, 93.0, nan]\n",
      "[197.0]\n",
      "[197.0, 107.0]\n",
      "[197.0, 107.0, 43.0]\n",
      "[197.0, 107.0, 43.0, 48.0]\n",
      "[197.0, 107.0, 43.0, 48.0, nan]\n",
      "[196.0]\n",
      "[196.0, 12.0]\n",
      "[196.0, 12.0, 93.0]\n",
      "[196.0, 12.0, 93.0, 168.0]\n",
      "[196.0, 12.0, 93.0, 168.0, nan]\n",
      "[195.0]\n",
      "[195.0, 43.0]\n",
      "[195.0, 43.0, 65.0]\n",
      "[195.0, 43.0, 65.0, 69.0]\n",
      "[195.0, 43.0, 65.0, 69.0, nan]\n",
      "[194.0]\n",
      "[194.0, 153.0]\n",
      "[194.0, 153.0, nan]\n",
      "[193.0]\n",
      "[193.0, 19.0]\n",
      "[193.0, 19.0, 26.0]\n",
      "[193.0, 19.0, 26.0, 58.0]\n",
      "[193.0, 19.0, 26.0, 58.0, nan]\n",
      "[192.0]\n",
      "[192.0, 16.0]\n",
      "[192.0, 16.0, 23.0]\n",
      "[192.0, 16.0, 23.0, 55.0]\n",
      "[192.0, 16.0, 23.0, 55.0, 71.0]\n"
     ]
    }
   ],
   "source": [
    "selectionx = 0\n",
    "selectiony = 0\n",
    "selection = 0\n",
    "while(solutionfoundDFS == 0):\n",
    "    selection = array[selectionx][selectiony]\n",
    "    \n",
    "    if(stackreset == 1):\n",
    "        #print(\"stackreset\")\n",
    "        for b in range(count):\n",
    "            stack.pop()\n",
    "        stackreset = 0\n",
    "        count = 0\n",
    "    \n",
    "    \n",
    "    \n",
    "    if(selectionx != 0):\n",
    "        if(selection == solutionDFS):\n",
    "            stack.append(selection)\n",
    "            solutionfoundDFS = 1\n",
    "            #print(\"solution found\")\n",
    "            #print(selection)\n",
    "            break\n",
    "    \n",
    "\n",
    "    check = pd.isnull(array[selectionx][selectiony])\n",
    "    \n",
    "    count = count + 1\n",
    "    stack.append(selection)\n",
    "    print(stack)\n",
    "    #print(selection)\n",
    "    #print(check)\n",
    "    selectionx= selectionx + 1\n",
    "    if check == True:\n",
    "        #if(pd.isnull(array[selectionx][selecti ony]) == true:\n",
    "        selectiony = selectiony + 1\n",
    "        selectionx = 0\n",
    "        stackreset = 1\n",
    "        continue\n",
    "        "
   ]
  },
  {
   "cell_type": "code",
   "execution_count": 63,
   "metadata": {},
   "outputs": [],
   "source": [
    "#print"
   ]
  },
  {
   "cell_type": "code",
   "execution_count": 64,
   "metadata": {},
   "outputs": [
    {
     "name": "stdout",
     "output_type": "stream",
     "text": [
      "Depth-first Search\n",
      "192.0 - 16.0 - 23.0 - 55.0 - 71.0 - 186.0 - \n",
      "Breadth-first traversal\n",
      "192 - 23.0 - 129.0 - 132.0 - 186 - "
     ]
    }
   ],
   "source": [
    "print(\"Depth-first Search\")\n",
    "for u in stack:\n",
    "    print(u, \"- \",end=\"\")\n",
    "print()\n",
    "print(\"Breadth-first traversal\")\n",
    "for r in list(m.queue):\n",
    "    print(r, \"- \",end=\"\")\n",
    "    \n",
    "#ran out of time trying to figure out why i couldnt format out dash at the end"
   ]
  },
  {
   "cell_type": "code",
   "execution_count": null,
   "metadata": {},
   "outputs": [],
   "source": []
  },
  {
   "cell_type": "code",
   "execution_count": null,
   "metadata": {},
   "outputs": [],
   "source": []
  }
 ],
 "metadata": {
  "colab": {
   "name": "BFSvDFS.ipynb",
   "provenance": []
  },
  "kernelspec": {
   "display_name": "Python 3",
   "language": "python",
   "name": "python3"
  },
  "language_info": {
   "codemirror_mode": {
    "name": "ipython",
    "version": 3
   },
   "file_extension": ".py",
   "mimetype": "text/x-python",
   "name": "python",
   "nbconvert_exporter": "python",
   "pygments_lexer": "ipython3",
   "version": "3.8.5"
  }
 },
 "nbformat": 4,
 "nbformat_minor": 5
}
